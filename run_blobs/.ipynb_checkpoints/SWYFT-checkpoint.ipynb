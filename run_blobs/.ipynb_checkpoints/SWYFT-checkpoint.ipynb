{
 "cells": [
  {
   "cell_type": "code",
   "execution_count": 1,
   "id": "fa07e69e",
   "metadata": {},
   "outputs": [],
   "source": [
    "%load_ext autoreload\n",
    "%autoreload 2\n",
    "\n",
    "import os\n",
    "import shutil\n",
    "\n",
    "import omegaconf\n",
    "import hydra\n",
    "import numpy as np\n",
    "import matplotlib.pyplot as plt\n",
    "import swyft.lightning as sl\n",
    "import torch\n",
    "from pytorch_lightning import loggers as pl_loggers\n",
    "from pytorch_lightning.callbacks import LearningRateMonitor, ModelCheckpoint\n",
    "from pytorch_lightning.callbacks.early_stopping import EarlyStopping\n",
    "\n",
    "# plt.switch_backend(\"agg\")\n",
    "plt.rcParams['figure.facecolor'] = 'white'"
   ]
  },
  {
   "cell_type": "code",
   "execution_count": 2,
   "id": "b7d61e5f",
   "metadata": {},
   "outputs": [],
   "source": [
    "cfg = omegaconf.OmegaConf.load(\"config_blobs.yaml\")\n",
    "from udens.plot import plt_imshow\n",
    "imkwargs = dict(extent=(-2.5, 2.5, -2.5, 2.5), origin='lower') #left, right, bottom, top\n",
    "from tqdm.notebook import tqdm as tqdm\n",
    "import matplotlib.colors"
   ]
  },
  {
   "cell_type": "code",
   "execution_count": 3,
   "id": "2e78e5a6",
   "metadata": {},
   "outputs": [
    {
     "ename": "KeyboardInterrupt",
     "evalue": "",
     "output_type": "error",
     "traceback": [
      "\u001b[0;31m---------------------------------------------------------------------------\u001b[0m",
      "\u001b[0;31mKeyboardInterrupt\u001b[0m                         Traceback (most recent call last)",
      "Input \u001b[0;32mIn [3]\u001b[0m, in \u001b[0;36m<cell line: 18>\u001b[0;34m()\u001b[0m\n\u001b[1;32m     10\u001b[0m     datamodule \u001b[38;5;241m=\u001b[39m sl\u001b[38;5;241m.\u001b[39mSwyftDataModule(\n\u001b[1;32m     11\u001b[0m         store\u001b[38;5;241m=\u001b[39mtrain_samples,\n\u001b[1;32m     12\u001b[0m         model\u001b[38;5;241m=\u001b[39msimulator,  \u001b[38;5;66;03m# Adds noise on the fly. `None` uses noise in store.\u001b[39;00m\n\u001b[1;32m     13\u001b[0m         batch_size\u001b[38;5;241m=\u001b[39mcfg\u001b[38;5;241m.\u001b[39mestimation\u001b[38;5;241m.\u001b[39mbatch_size,\n\u001b[1;32m     14\u001b[0m         num_workers\u001b[38;5;241m=\u001b[39mcfg\u001b[38;5;241m.\u001b[39mestimation\u001b[38;5;241m.\u001b[39mnum_workers,\n\u001b[1;32m     15\u001b[0m     )\n\u001b[1;32m     17\u001b[0m     \u001b[38;5;28;01mreturn\u001b[39;00m datamodule, simulator\n\u001b[0;32m---> 18\u001b[0m datamodule, simulator \u001b[38;5;241m=\u001b[39m \u001b[43msimulate\u001b[49m\u001b[43m(\u001b[49m\u001b[43mcfg\u001b[49m\u001b[43m)\u001b[49m\n",
      "Input \u001b[0;32mIn [3]\u001b[0m, in \u001b[0;36msimulate\u001b[0;34m(cfg)\u001b[0m\n\u001b[1;32m      1\u001b[0m \u001b[38;5;28;01mdef\u001b[39;00m \u001b[38;5;21msimulate\u001b[39m(cfg):\n\u001b[1;32m      2\u001b[0m     \u001b[38;5;66;03m# Loading simulator (potentially bounded)\u001b[39;00m\n\u001b[0;32m----> 3\u001b[0m     simulator \u001b[38;5;241m=\u001b[39m \u001b[43mhydra\u001b[49m\u001b[38;5;241;43m.\u001b[39;49m\u001b[43mutils\u001b[49m\u001b[38;5;241;43m.\u001b[39;49m\u001b[43minstantiate\u001b[49m\u001b[43m(\u001b[49m\u001b[43mcfg\u001b[49m\u001b[38;5;241;43m.\u001b[39;49m\u001b[43msimulation\u001b[49m\u001b[38;5;241;43m.\u001b[39;49m\u001b[43mmodel\u001b[49m\u001b[43m)\u001b[49m\n\u001b[1;32m      5\u001b[0m     \u001b[38;5;66;03m# Generate or load training data & generate datamodule\u001b[39;00m\n\u001b[1;32m      6\u001b[0m     train_samples \u001b[38;5;241m=\u001b[39m sl\u001b[38;5;241m.\u001b[39mfile_cache(\n\u001b[1;32m      7\u001b[0m         \u001b[38;5;28;01mlambda\u001b[39;00m: simulator\u001b[38;5;241m.\u001b[39msample(cfg\u001b[38;5;241m.\u001b[39msimulation\u001b[38;5;241m.\u001b[39mstore\u001b[38;5;241m.\u001b[39mstore_size),\n\u001b[1;32m      8\u001b[0m         cfg\u001b[38;5;241m.\u001b[39msimulation\u001b[38;5;241m.\u001b[39mstore\u001b[38;5;241m.\u001b[39mpath,\n\u001b[1;32m      9\u001b[0m     )[: cfg\u001b[38;5;241m.\u001b[39msimulation\u001b[38;5;241m.\u001b[39mstore\u001b[38;5;241m.\u001b[39mtrain_size]\n",
      "File \u001b[0;32m~/.pyenv/versions/3.9.7/envs/dens-3.9.7/lib/python3.9/site-packages/hydra/_internal/instantiate/_instantiate2.py:180\u001b[0m, in \u001b[0;36minstantiate\u001b[0;34m(config, *args, **kwargs)\u001b[0m\n\u001b[1;32m    177\u001b[0m     _recursive_ \u001b[38;5;241m=\u001b[39m config\u001b[38;5;241m.\u001b[39mpop(_Keys\u001b[38;5;241m.\u001b[39mRECURSIVE, \u001b[38;5;28;01mTrue\u001b[39;00m)\n\u001b[1;32m    178\u001b[0m     _convert_ \u001b[38;5;241m=\u001b[39m config\u001b[38;5;241m.\u001b[39mpop(_Keys\u001b[38;5;241m.\u001b[39mCONVERT, ConvertMode\u001b[38;5;241m.\u001b[39mNONE)\n\u001b[0;32m--> 180\u001b[0m     \u001b[38;5;28;01mreturn\u001b[39;00m \u001b[43minstantiate_node\u001b[49m\u001b[43m(\u001b[49m\u001b[43mconfig\u001b[49m\u001b[43m,\u001b[49m\u001b[43m \u001b[49m\u001b[38;5;241;43m*\u001b[39;49m\u001b[43margs\u001b[49m\u001b[43m,\u001b[49m\u001b[43m \u001b[49m\u001b[43mrecursive\u001b[49m\u001b[38;5;241;43m=\u001b[39;49m\u001b[43m_recursive_\u001b[49m\u001b[43m,\u001b[49m\u001b[43m \u001b[49m\u001b[43mconvert\u001b[49m\u001b[38;5;241;43m=\u001b[39;49m\u001b[43m_convert_\u001b[49m\u001b[43m)\u001b[49m\n\u001b[1;32m    181\u001b[0m \u001b[38;5;28;01melse\u001b[39;00m:\n\u001b[1;32m    182\u001b[0m     \u001b[38;5;28;01mraise\u001b[39;00m InstantiationException(\n\u001b[1;32m    183\u001b[0m         \u001b[38;5;124m\"\u001b[39m\u001b[38;5;124mTop level config has to be OmegaConf DictConfig, plain dict, or a Structured Config class or instance\u001b[39m\u001b[38;5;124m\"\u001b[39m\n\u001b[1;32m    184\u001b[0m     )\n",
      "File \u001b[0;32m~/.pyenv/versions/3.9.7/envs/dens-3.9.7/lib/python3.9/site-packages/hydra/_internal/instantiate/_instantiate2.py:249\u001b[0m, in \u001b[0;36minstantiate_node\u001b[0;34m(node, convert, recursive, *args)\u001b[0m\n\u001b[1;32m    245\u001b[0m                 value \u001b[38;5;241m=\u001b[39m instantiate_node(\n\u001b[1;32m    246\u001b[0m                     value, convert\u001b[38;5;241m=\u001b[39mconvert, recursive\u001b[38;5;241m=\u001b[39mrecursive\n\u001b[1;32m    247\u001b[0m                 )\n\u001b[1;32m    248\u001b[0m             kwargs[key] \u001b[38;5;241m=\u001b[39m _convert_node(value, convert)\n\u001b[0;32m--> 249\u001b[0m     \u001b[38;5;28;01mreturn\u001b[39;00m \u001b[43m_call_target\u001b[49m\u001b[43m(\u001b[49m\u001b[43m_target_\u001b[49m\u001b[43m,\u001b[49m\u001b[43m \u001b[49m\u001b[38;5;241;43m*\u001b[39;49m\u001b[43margs\u001b[49m\u001b[43m,\u001b[49m\u001b[43m \u001b[49m\u001b[38;5;241;43m*\u001b[39;49m\u001b[38;5;241;43m*\u001b[39;49m\u001b[43mkwargs\u001b[49m\u001b[43m)\u001b[49m\n\u001b[1;32m    250\u001b[0m \u001b[38;5;28;01melse\u001b[39;00m:\n\u001b[1;32m    251\u001b[0m     \u001b[38;5;66;03m# If ALL or PARTIAL non structured, instantiate in dict and resolve interpolations eagerly.\u001b[39;00m\n\u001b[1;32m    252\u001b[0m     \u001b[38;5;28;01mif\u001b[39;00m convert \u001b[38;5;241m==\u001b[39m ConvertMode\u001b[38;5;241m.\u001b[39mALL \u001b[38;5;129;01mor\u001b[39;00m (\n\u001b[1;32m    253\u001b[0m         convert \u001b[38;5;241m==\u001b[39m ConvertMode\u001b[38;5;241m.\u001b[39mPARTIAL \u001b[38;5;129;01mand\u001b[39;00m node\u001b[38;5;241m.\u001b[39m_metadata\u001b[38;5;241m.\u001b[39mobject_type \u001b[38;5;129;01mis\u001b[39;00m \u001b[38;5;28;01mNone\u001b[39;00m\n\u001b[1;32m    254\u001b[0m     ):\n",
      "File \u001b[0;32m~/.pyenv/versions/3.9.7/envs/dens-3.9.7/lib/python3.9/site-packages/hydra/_internal/instantiate/_instantiate2.py:62\u001b[0m, in \u001b[0;36m_call_target\u001b[0;34m(_target_, *args, **kwargs)\u001b[0m\n\u001b[1;32m     59\u001b[0m         \u001b[38;5;28;01mif\u001b[39;00m OmegaConf\u001b[38;5;241m.\u001b[39mis_config(v):\n\u001b[1;32m     60\u001b[0m             v\u001b[38;5;241m.\u001b[39m_set_parent(\u001b[38;5;28;01mNone\u001b[39;00m)\n\u001b[0;32m---> 62\u001b[0m     \u001b[38;5;28;01mreturn\u001b[39;00m \u001b[43m_target_\u001b[49m\u001b[43m(\u001b[49m\u001b[38;5;241;43m*\u001b[39;49m\u001b[43margs\u001b[49m\u001b[43m,\u001b[49m\u001b[43m \u001b[49m\u001b[38;5;241;43m*\u001b[39;49m\u001b[38;5;241;43m*\u001b[39;49m\u001b[43mkwargs\u001b[49m\u001b[43m)\u001b[49m\n\u001b[1;32m     63\u001b[0m \u001b[38;5;28;01mexcept\u001b[39;00m \u001b[38;5;167;01mException\u001b[39;00m \u001b[38;5;28;01mas\u001b[39;00m e:\n\u001b[1;32m     64\u001b[0m     \u001b[38;5;28;01mraise\u001b[39;00m \u001b[38;5;28mtype\u001b[39m(e)(\n\u001b[1;32m     65\u001b[0m         \u001b[38;5;124mf\u001b[39m\u001b[38;5;124m\"\u001b[39m\u001b[38;5;124mError instantiating \u001b[39m\u001b[38;5;124m'\u001b[39m\u001b[38;5;132;01m{\u001b[39;00m_convert_target_to_string(_target_)\u001b[38;5;132;01m}\u001b[39;00m\u001b[38;5;124m'\u001b[39m\u001b[38;5;124m : \u001b[39m\u001b[38;5;132;01m{\u001b[39;00me\u001b[38;5;132;01m}\u001b[39;00m\u001b[38;5;124m\"\u001b[39m\n\u001b[1;32m     66\u001b[0m     )\u001b[38;5;241m.\u001b[39mwith_traceback(sys\u001b[38;5;241m.\u001b[39mexc_info()[\u001b[38;5;241m2\u001b[39m])\n",
      "File \u001b[0;32m<string>:11\u001b[0m, in \u001b[0;36m__init__\u001b[0;34m(self, n_pix, sigma_n, nsub_bound, grid_low, grid_high, z_sub_true, bounds, device)\u001b[0m\n",
      "File \u001b[0;32m~/density2/udens/src/udens/models/model.py:169\u001b[0m, in \u001b[0;36mModelBlobs_uniform.__post_init__\u001b[0;34m(self)\u001b[0m\n\u001b[1;32m    167\u001b[0m \u001b[38;5;28;01mdef\u001b[39;00m \u001b[38;5;21m__post_init__\u001b[39m(\u001b[38;5;28mself\u001b[39m):\n\u001b[1;32m    168\u001b[0m     \u001b[38;5;66;03m# Initialize model\u001b[39;00m\n\u001b[0;32m--> 169\u001b[0m     \u001b[38;5;28mself\u001b[39m\u001b[38;5;241m.\u001b[39mm \u001b[38;5;241m=\u001b[39m \u001b[43mBlobs\u001b[49m\u001b[43m(\u001b[49m\u001b[43mn_pix\u001b[49m\u001b[38;5;241;43m=\u001b[39;49m\u001b[38;5;28;43mself\u001b[39;49m\u001b[38;5;241;43m.\u001b[39;49m\u001b[43mn_pix\u001b[49m\u001b[43m,\u001b[49m\u001b[43m \u001b[49m\u001b[43mdevice\u001b[49m\u001b[38;5;241;43m=\u001b[39;49m\u001b[38;5;28;43mself\u001b[39;49m\u001b[38;5;241;43m.\u001b[39;49m\u001b[43mdevice\u001b[49m\u001b[43m)\u001b[49m\n\u001b[1;32m    170\u001b[0m     \u001b[38;5;28mself\u001b[39m\u001b[38;5;241m.\u001b[39msub_low_init  \u001b[38;5;241m=\u001b[39m \u001b[38;5;28mself\u001b[39m\u001b[38;5;241m.\u001b[39mgrid_low  \u001b[38;5;66;03m#np.tile(np.array(self.grid_low), (self.n_sub, 1))\u001b[39;00m\n\u001b[1;32m    171\u001b[0m     \u001b[38;5;28mself\u001b[39m\u001b[38;5;241m.\u001b[39msub_high_init \u001b[38;5;241m=\u001b[39m \u001b[38;5;28mself\u001b[39m\u001b[38;5;241m.\u001b[39mgrid_high\n",
      "File \u001b[0;32m~/density2/udens/src/udens/models/model.py:69\u001b[0m, in \u001b[0;36mBlobs.__init__\u001b[0;34m(self, n_pix, device)\u001b[0m\n\u001b[1;32m     66\u001b[0m \u001b[38;5;28mself\u001b[39m\u001b[38;5;241m.\u001b[39mnx \u001b[38;5;241m=\u001b[39m \u001b[38;5;28mself\u001b[39m\u001b[38;5;241m.\u001b[39mny \u001b[38;5;241m=\u001b[39m n_pix\n\u001b[1;32m     67\u001b[0m \u001b[38;5;28mself\u001b[39m\u001b[38;5;241m.\u001b[39mres \u001b[38;5;241m=\u001b[39m BASE_RES \u001b[38;5;241m*\u001b[39m BASE_N_PIX \u001b[38;5;241m/\u001b[39m n_pix\n\u001b[0;32m---> 69\u001b[0m X, Y \u001b[38;5;241m=\u001b[39m \u001b[43mget_meshgrid\u001b[49m\u001b[43m(\u001b[49m\u001b[38;5;28;43mself\u001b[39;49m\u001b[38;5;241;43m.\u001b[39;49m\u001b[43mres\u001b[49m\u001b[43m,\u001b[49m\u001b[43m \u001b[49m\u001b[38;5;28;43mself\u001b[39;49m\u001b[38;5;241;43m.\u001b[39;49m\u001b[43mnx\u001b[49m\u001b[43m,\u001b[49m\u001b[43m \u001b[49m\u001b[38;5;28;43mself\u001b[39;49m\u001b[38;5;241;43m.\u001b[39;49m\u001b[43mny\u001b[49m\u001b[43m,\u001b[49m\u001b[43m \u001b[49m\u001b[38;5;28;43mself\u001b[39;49m\u001b[38;5;241;43m.\u001b[39;49m\u001b[43mdevice\u001b[49m\u001b[43m)\u001b[49m\n\u001b[1;32m     70\u001b[0m \u001b[38;5;28mself\u001b[39m\u001b[38;5;241m.\u001b[39mcoerce_XY(X, Y)\n\u001b[1;32m     71\u001b[0m torch\u001b[38;5;241m.\u001b[39mset_default_tensor_type(torch\u001b[38;5;241m.\u001b[39mFloatTensor)\n",
      "File \u001b[0;32m~/density2/udens/src/udens/models/utils.py:13\u001b[0m, in \u001b[0;36mget_meshgrid\u001b[0;34m(resolution, nx, ny, device)\u001b[0m\n\u001b[1;32m     10\u001b[0m dy \u001b[38;5;241m=\u001b[39m resolution\n\u001b[1;32m     12\u001b[0m \u001b[38;5;66;03m# Coordinates at pixel centers\u001b[39;00m\n\u001b[0;32m---> 13\u001b[0m x \u001b[38;5;241m=\u001b[39m \u001b[43mtorch\u001b[49m\u001b[38;5;241;43m.\u001b[39;49m\u001b[43mlinspace\u001b[49m\u001b[43m(\u001b[49m\u001b[38;5;241;43m-\u001b[39;49m\u001b[38;5;241;43m1\u001b[39;49m\u001b[43m,\u001b[49m\u001b[43m \u001b[49m\u001b[38;5;241;43m1\u001b[39;49m\u001b[43m,\u001b[49m\u001b[43m \u001b[49m\u001b[38;5;28;43mint\u001b[39;49m\u001b[43m(\u001b[49m\u001b[43mnx\u001b[49m\u001b[43m)\u001b[49m\u001b[43m,\u001b[49m\u001b[43m \u001b[49m\u001b[43mdevice\u001b[49m\u001b[38;5;241;43m=\u001b[39;49m\u001b[43mdevice\u001b[49m\u001b[43m)\u001b[49m \u001b[38;5;241m*\u001b[39m (nx \u001b[38;5;241m-\u001b[39m \u001b[38;5;241m1\u001b[39m) \u001b[38;5;241m*\u001b[39m dx \u001b[38;5;241m/\u001b[39m \u001b[38;5;241m2\u001b[39m\n\u001b[1;32m     14\u001b[0m y \u001b[38;5;241m=\u001b[39m torch\u001b[38;5;241m.\u001b[39mlinspace(\u001b[38;5;241m-\u001b[39m\u001b[38;5;241m1\u001b[39m, \u001b[38;5;241m1\u001b[39m, \u001b[38;5;28mint\u001b[39m(ny), device\u001b[38;5;241m=\u001b[39mdevice) \u001b[38;5;241m*\u001b[39m (ny \u001b[38;5;241m-\u001b[39m \u001b[38;5;241m1\u001b[39m) \u001b[38;5;241m*\u001b[39m dy \u001b[38;5;241m/\u001b[39m \u001b[38;5;241m2\u001b[39m\n\u001b[1;32m     16\u001b[0m \u001b[38;5;66;03m# Note difference to numpy (!)\u001b[39;00m\n",
      "\u001b[0;31mKeyboardInterrupt\u001b[0m: "
     ]
    }
   ],
   "source": [
    "def simulate(cfg):\n",
    "    # Loading simulator (potentially bounded)\n",
    "    simulator = hydra.utils.instantiate(cfg.simulation.model)\n",
    "\n",
    "    # Generate or load training data & generate datamodule\n",
    "    train_samples = sl.file_cache(\n",
    "        lambda: simulator.sample(cfg.simulation.store.store_size),\n",
    "        cfg.simulation.store.path,\n",
    "    )[: cfg.simulation.store.train_size]\n",
    "    datamodule = sl.SwyftDataModule(\n",
    "        store=train_samples,\n",
    "        model=simulator,  # Adds noise on the fly. `None` uses noise in store.\n",
    "        batch_size=cfg.estimation.batch_size,\n",
    "        num_workers=cfg.estimation.num_workers,\n",
    "    )\n",
    "\n",
    "    return datamodule, simulator\n",
    "datamodule, simulator = simulate(cfg)"
   ]
  },
  {
   "cell_type": "code",
   "execution_count": null,
   "id": "3e2bdde9",
   "metadata": {},
   "outputs": [],
   "source": [
    "def load(cfg, simulator):\n",
    "    print('Loading trained network')\n",
    "    tbl = pl_loggers.TensorBoardLogger(\n",
    "        save_dir=cfg.tensorboard.save_dir,\n",
    "        name=cfg.tensorboard.name,\n",
    "        version=cfg.tensorboard.version,\n",
    "        default_hp_metric=False,\n",
    "    )\n",
    "    logdir = (\n",
    "        tbl.experiment.get_logdir()\n",
    "    )  # Directory where all logging information and checkpoints etc are stored\n",
    "    \n",
    "    checkpoints = os.listdir( os.path.join(logdir, 'checkpoint') )\n",
    "    if 'best.ckpt' in checkpoints:\n",
    "        best_ckpt = 'best.ckpt'\n",
    "    else:\n",
    "        best_idx = np.argmax(list(map(int, [checkpoint[6:8] for checkpoint in checkpoints])))\n",
    "        best_ckpt = checkpoints[best_idx]\n",
    "    print(f'best checkpoint is {best_ckpt}')\n",
    "    \n",
    "    checkpoint = torch.load(\n",
    "        os.path.join(logdir, f'checkpoint/{best_ckpt}'), map_location='cpu'\n",
    "    )\n",
    "\n",
    "    network = hydra.utils.instantiate(cfg.estimation.network, cfg)\n",
    "    network.load_state_dict(checkpoint[\"state_dict\"])\n",
    "\n",
    "    train_samples = torch.load(cfg.simulation.store.path)\n",
    "    \n",
    "    trainer = sl.SwyftTrainer(accelerator=cfg.estimation.accelerator, gpus=1)\n",
    "    trainer.setup(None)\n",
    "    \n",
    "    datamodule = sl.SwyftDataModule(store=train_samples, model=simulator)\n",
    "    datamodule.setup(None)\n",
    "    \n",
    "    trainer.model = network\n",
    "    \n",
    "    return network, trainer, tbl, datamodule\n",
    "\n",
    "def analyse(cfg, datamodule):\n",
    "    # Setting up tensorboard logger, which defines also logdir (contains trained network)\n",
    "    tbl = pl_loggers.TensorBoardLogger(\n",
    "        save_dir=cfg.tensorboard.save_dir,\n",
    "        name=cfg.tensorboard.name,\n",
    "        version=cfg.tensorboard.version,\n",
    "        default_hp_metric=False,\n",
    "    )\n",
    "    logdir = (\n",
    "        tbl.experiment.get_logdir()\n",
    "    )  # Directory where all logging information and checkpoints etc are stored\n",
    "\n",
    "    # Load network and train (or re-load trained network)\n",
    "    network = hydra.utils.instantiate(cfg.estimation.network, cfg)\n",
    "    lr_monitor = LearningRateMonitor(logging_interval=\"step\")\n",
    "    early_stop_callback = EarlyStopping(\n",
    "        monitor=\"val_loss\",\n",
    "        min_delta=cfg.estimation.early_stopping.min_delta,\n",
    "        patience=cfg.estimation.early_stopping.patience,\n",
    "        verbose=False,\n",
    "        mode=\"min\",\n",
    "    )\n",
    "    checkpoint_callback = ModelCheckpoint(\n",
    "        monitor=\"val_loss\",\n",
    "        dirpath=logdir + \"/checkpoint/\",\n",
    "        filename=\"{epoch:02d}-{val_loss:.2f}\",\n",
    "        save_top_k=3,\n",
    "        mode=\"min\",\n",
    "    )\n",
    "    trainer = sl.SwyftTrainer(\n",
    "        accelerator=cfg.estimation.accelerator,\n",
    "        gpus=1,\n",
    "        max_epochs=cfg.estimation.max_epochs,\n",
    "        logger=tbl,\n",
    "        callbacks=[lr_monitor, early_stop_callback, checkpoint_callback],\n",
    "    )\n",
    "    best_checkpoint = logdir + \"/checkpoint/best.ckpt\"\n",
    "    if not os.path.isfile(best_checkpoint):\n",
    "        trainer.fit(network, datamodule)\n",
    "        shutil.copy(checkpoint_callback.best_model_path, best_checkpoint)\n",
    "        trainer.test(network, datamodule)\n",
    "    else:\n",
    "        trainer.fit(network, datamodule, ckpt_path=best_checkpoint)\n",
    "\n",
    "    return network, trainer, tbl\n",
    "\n",
    "network, trainer, tbl, datamodule = load(cfg, simulator)\n",
    "# network, trainer, tbl = analyse(cfg, datamodule)"
   ]
  },
  {
   "cell_type": "code",
   "execution_count": null,
   "id": "8863df55",
   "metadata": {},
   "outputs": [],
   "source": [
    "def interpret(cfg, simulator, network, trainer, datamodule, tbl):\n",
    "    hydra.utils.call(\n",
    "        cfg.inference.interpreter, cfg, simulator, network, trainer, datamodule, tbl\n",
    "    )\n",
    "interpret(cfg, simulator, network, trainer, datamodule, tbl)"
   ]
  },
  {
   "cell_type": "code",
   "execution_count": null,
   "id": "6abb78b1",
   "metadata": {},
   "outputs": [],
   "source": [
    "# @hydra.main(config_path=\".\", config_name=\"config\")\n",
    "# def main(cfg):\n",
    "#     print_dict(cfg)\n",
    "#     datamodule, simulator = simulate(cfg)\n",
    "    \n",
    "#     if cfg.load:\n",
    "#         network, trainer, tbl, datamodule = load(cfg, simulator)\n",
    "#     else:\n",
    "#         network, trainer, tbl = analyse(cfg, datamodule)\n",
    "#     interpret(cfg, simulator, network, trainer, datamodule, tbl)\n",
    "\n",
    "\n",
    "# if __name__ == \"__main__\":\n",
    "#     main()"
   ]
  },
  {
   "cell_type": "code",
   "execution_count": null,
   "id": "401fe5e5",
   "metadata": {},
   "outputs": [],
   "source": [
    "# Make the scripts stop here\n",
    "assert 1 == 2"
   ]
  },
  {
   "cell_type": "markdown",
   "id": "e41710f3",
   "metadata": {},
   "source": [
    "# Interpret"
   ]
  },
  {
   "cell_type": "code",
   "execution_count": null,
   "id": "30b8975a",
   "metadata": {},
   "outputs": [],
   "source": [
    "import os\n",
    "import numpy as np\n",
    "import pylab as plt\n",
    "import torch\n",
    "import swyft.lightning as sl\n",
    "\n",
    "from udens.interpret import IsotonicRegressionCalibration\n",
    "from udens.logging_utils_subN import LogIRC, LogPost, LogObs, LogBounds, LogSingleSub\n",
    "from udens.inference import Infer, Prior"
   ]
  },
  {
   "cell_type": "code",
   "execution_count": null,
   "id": "2b9a8cf5",
   "metadata": {},
   "outputs": [],
   "source": [
    "logdir = tbl.experiment.get_logdir()\n",
    "\n",
    "# Calculate expected n_sub\n",
    "Ms = datamodule.predict_dataloader().dataset[:]['z_sub'][:,:,0]\n",
    "n_sub_expect = torch.mean(torch.tensor(np.count_nonzero(Ms.numpy(), axis  = 1), dtype = torch.float32))\n",
    "\n",
    "# Loading the inference class and \n",
    "infer = Infer(simulator, network, datamodule, n_sub_expect)\n",
    "\n",
    "# Prior information necessary for loggers\n",
    "prior, prior_grid = infer.calc_prior()[0], infer.prior_grid()\n",
    "grid_coords = infer.get_grid_coords()\n",
    "grid_low, grid_high = infer.grid_low, infer.grid_high\n",
    "    "
   ]
  },
  {
   "cell_type": "code",
   "execution_count": null,
   "id": "fee9515e",
   "metadata": {},
   "outputs": [],
   "source": [
    "# Simulations inference\n",
    "posts_norm, posts_unnorm, targets = infer.get_posts(datamodule.predict_dataloader(), cfg.inference.n_infer)\n",
    "torch.save(posts_norm, os.path.join(logdir, 'posts_norm.pt'))\n",
    "torch.save(posts_unnorm, os.path.join(logdir, 'posts_unnorm.pt'))\n",
    "torch.save(targets, os.path.join(logdir,'targets.pt'))\n",
    "# posts_norm = torch.load(os.path.join(logdir, 'posts_norm.pt'))\n",
    "# posts_unnorm = torch.load(os.path.join(logdir, 'posts_unnorm.pt'))\n",
    "# targets       = torch.load(os.path.join(logdir, 'targets.pt'))"
   ]
  },
  {
   "cell_type": "code",
   "execution_count": null,
   "id": "6f882162",
   "metadata": {},
   "outputs": [],
   "source": [
    "# Calibration\n",
    "irc_norm = IsotonicRegressionCalibration(posts_norm, targets)    \n",
    "posts_norm_calib = irc_norm.calibrate(posts_norm)\n",
    "torch.save(posts_norm_calib, os.path.join(logdir, 'posts_norm_calib.pt'))\n",
    "\n",
    "irc_unnorm = IsotonicRegressionCalibration(posts_unnorm, targets)    \n",
    "posts_unnorm_calib = irc_unnorm.calibrate(posts_unnorm)\n",
    "torch.save(posts_unnorm_calib, os.path.join(logdir, 'posts_unnorm_calib.pt'))"
   ]
  },
  {
   "cell_type": "code",
   "execution_count": null,
   "id": "ad211800",
   "metadata": {},
   "outputs": [],
   "source": [
    "# Log simulation inference\n",
    "LogPost(tbl, posts_norm, targets, title = 'norm_uncalib').plot_all()\n",
    "LogPost(tbl, posts_norm_calib, targets, title = 'norm_calib').plot_all()\n",
    "LogIRC(tbl, irc_norm, title = 'norm_calibration').plot()\n",
    "\n",
    "LogPost(tbl, posts_unnorm, targets, title = 'unnorm_uncalib').plot_all()\n",
    "LogPost(tbl, posts_unnorm_calib, targets, title = 'unnorm_calib').plot_all()\n",
    "LogIRC(tbl, irc_unnorm, title = 'unnorm_calibration').plot()\n",
    "\n",
    "test_sim = simulator.sample(1)\n",
    "\n",
    "\n",
    "test_post_uncalib = infer.get_post(test_sim)[0] #[0] refers to normalized case\n",
    "test_sim = infer.squeeze_obs(test_sim)\n",
    "test_post = irc_norm.calibrate(test_post_uncalib.squeeze(0))\n",
    "\n",
    "log_obs = LogObs(tbl, test_sim, test_post, prior, grid_coords)\n",
    "log_obs.plot_obs()"
   ]
  },
  {
   "cell_type": "code",
   "execution_count": null,
   "id": "4faa7ee3",
   "metadata": {},
   "outputs": [],
   "source": [
    "sim_id = ''\n",
    "fig = lavalamp(test_post, test_sim, grid_coords, grid_low, grid_high)\n",
    "fig.write_html(os.path.join(logdir, f'lavalamp{sim_id}.html'))"
   ]
  },
  {
   "cell_type": "code",
   "execution_count": null,
   "id": "9fbed74f",
   "metadata": {},
   "outputs": [],
   "source": [
    "tbl.experiment.flush()\n",
    "print(\"logdir:\", tbl.experiment.get_logdir())"
   ]
  }
 ],
 "metadata": {
  "kernelspec": {
   "display_name": "Python 3 (ipykernel)",
   "language": "python",
   "name": "python3"
  },
  "language_info": {
   "codemirror_mode": {
    "name": "ipython",
    "version": 3
   },
   "file_extension": ".py",
   "mimetype": "text/x-python",
   "name": "python",
   "nbconvert_exporter": "python",
   "pygments_lexer": "ipython3",
   "version": "3.9.7"
  }
 },
 "nbformat": 4,
 "nbformat_minor": 5
}
