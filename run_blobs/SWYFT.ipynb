{
 "cells": [
  {
   "cell_type": "code",
   "execution_count": 1,
   "id": "fa07e69e",
   "metadata": {},
   "outputs": [],
   "source": [
    "%load_ext autoreload\n",
    "%autoreload 2\n",
    "\n",
    "import os\n",
    "import shutil\n",
    "\n",
    "import omegaconf\n",
    "import hydra\n",
    "import numpy as np\n",
    "import matplotlib.pyplot as plt\n",
    "import swyft.lightning as sl\n",
    "import torch\n",
    "from pytorch_lightning import loggers as pl_loggers\n",
    "from pytorch_lightning.callbacks import LearningRateMonitor, ModelCheckpoint\n",
    "from pytorch_lightning.callbacks.early_stopping import EarlyStopping\n",
    "\n",
    "# plt.switch_backend(\"agg\")\n",
    "plt.rcParams['figure.facecolor'] = 'white'"
   ]
  },
  {
   "cell_type": "code",
   "execution_count": 2,
   "id": "b7d61e5f",
   "metadata": {},
   "outputs": [],
   "source": [
    "cfg = omegaconf.OmegaConf.load(\"config_blobs.yaml\")\n",
    "from udens.plot import plt_imshow\n",
    "imkwargs = dict(extent=(-2.5, 2.5, -2.5, 2.5), origin='lower') #left, right, bottom, top\n",
    "from tqdm.notebook import tqdm as tqdm\n",
    "import matplotlib.colors"
   ]
  },
  {
   "cell_type": "code",
   "execution_count": 3,
   "id": "2e78e5a6",
   "metadata": {},
   "outputs": [
    {
     "name": "stderr",
     "output_type": "stream",
     "text": [
      "/home/eliasd/.pyenv/versions/3.9.7/envs/dens-3.9.7/lib/python3.9/site-packages/torch/functional.py:568: UserWarning: torch.meshgrid: in an upcoming release, it will be required to pass the indexing argument. (Triggered internally at  ../aten/src/ATen/native/TensorShape.cpp:2228.)\n",
      "  return _VF.meshgrid(tensors, **kwargs)  # type: ignore[attr-defined]\n"
     ]
    }
   ],
   "source": [
    "def simulate(cfg):\n",
    "    # Loading simulator (potentially bounded)\n",
    "    simulator = hydra.utils.instantiate(cfg.simulation.model)\n",
    "\n",
    "    # Generate or load training data & generate datamodule\n",
    "    train_samples = sl.file_cache(\n",
    "        lambda: simulator.sample(cfg.simulation.store.store_size),\n",
    "        cfg.simulation.store.path,\n",
    "    )[: cfg.simulation.store.train_size]\n",
    "    datamodule = sl.SwyftDataModule(\n",
    "        store=train_samples,\n",
    "        model=simulator,  # Adds noise on the fly. `None` uses noise in store.\n",
    "        batch_size=cfg.estimation.batch_size,\n",
    "        num_workers=cfg.estimation.num_workers,\n",
    "    )\n",
    "\n",
    "    return datamodule, simulator\n",
    "datamodule, simulator = simulate(cfg)"
   ]
  },
  {
   "cell_type": "code",
   "execution_count": 4,
   "id": "3e2bdde9",
   "metadata": {},
   "outputs": [
    {
     "name": "stdout",
     "output_type": "stream",
     "text": [
      "Prior,    M_frac    in subhalo log10 mass range\n",
      "3.12e-04, 5.00e-01:    [9.000 - 9.500]\n",
      "3.12e-04, 5.00e-01:    [9.500 - 10.000]\n"
     ]
    },
    {
     "name": "stderr",
     "output_type": "stream",
     "text": [
      "GPU available: True, used: True\n",
      "TPU available: False, using: 0 TPU cores\n",
      "IPU available: False, using: 0 IPUs\n",
      "HPU available: False, using: 0 HPUs\n",
      "/home/eliasd/.pyenv/versions/3.9.7/envs/dens-3.9.7/lib/python3.9/site-packages/pytorch_lightning/callbacks/model_checkpoint.py:608: UserWarning: Checkpoint directory /home/eliasd/density/udens/run_blobs/lightning_logs_blobs/uniform_noise0.0_sub1-1_m9.0-10.0_pix40_msc2_sim10000/version_0/checkpoint exists and is not empty.\n",
      "  rank_zero_warn(f\"Checkpoint directory {dirpath} exists and is not empty.\")\n",
      "Restoring states from the checkpoint path at ./lightning_logs_blobs/uniform_noise0.0_sub1-1_m9.0-10.0_pix40_msc2_sim10000/version_0/checkpoint/best.ckpt\n",
      "LOCAL_RANK: 0 - CUDA_VISIBLE_DEVICES: [0]\n",
      "\n",
      "  | Name           | Type                         | Params\n",
      "----------------------------------------------------------------\n",
      "0 | online_z_score | OnlineDictStandardizingLayer | 0     \n",
      "1 | classifier     | RatioEstimatorUNet           | 31.0 M\n",
      "----------------------------------------------------------------\n",
      "31.0 M    Trainable params\n",
      "0         Non-trainable params\n",
      "31.0 M    Total params\n",
      "124.147   Total estimated model params size (MB)\n",
      "Restored all states from the checkpoint file at ./lightning_logs_blobs/uniform_noise0.0_sub1-1_m9.0-10.0_pix40_msc2_sim10000/version_0/checkpoint/best.ckpt\n"
     ]
    }
   ],
   "source": [
    "def load(cfg, simulator):\n",
    "    print('Loading trained network')\n",
    "    tbl = pl_loggers.TensorBoardLogger(\n",
    "        save_dir=cfg.tensorboard.save_dir,\n",
    "        name=cfg.tensorboard.name,\n",
    "        version=cfg.tensorboard.version,\n",
    "        default_hp_metric=False,\n",
    "    )\n",
    "    logdir = (\n",
    "        tbl.experiment.get_logdir()\n",
    "    )  # Directory where all logging information and checkpoints etc are stored\n",
    "    \n",
    "    checkpoints = os.listdir( os.path.join(logdir, 'checkpoint') )\n",
    "    if 'best.ckpt' in checkpoints:\n",
    "        best_ckpt = 'best.ckpt'\n",
    "    else:\n",
    "        best_idx = np.argmax(list(map(int, [checkpoint[6:8] for checkpoint in checkpoints])))\n",
    "        best_ckpt = checkpoints[best_idx]\n",
    "    print(f'best checkpoint is {best_ckpt}')\n",
    "    \n",
    "    checkpoint = torch.load(\n",
    "        os.path.join(logdir, f'checkpoint/{best_ckpt}'), map_location='cpu'\n",
    "    )\n",
    "\n",
    "    network = hydra.utils.instantiate(cfg.estimation.network, cfg)\n",
    "    network.load_state_dict(checkpoint[\"state_dict\"])\n",
    "\n",
    "    train_samples = torch.load(cfg.simulation.store.path)\n",
    "    \n",
    "    trainer = sl.SwyftTrainer(accelerator=cfg.estimation.accelerator, gpus=1)\n",
    "    trainer.setup(None)\n",
    "    \n",
    "    datamodule = sl.SwyftDataModule(store=train_samples, model=simulator)\n",
    "    datamodule.setup(None)\n",
    "    \n",
    "    trainer.model = network\n",
    "    \n",
    "    return network, trainer, tbl, datamodule\n",
    "\n",
    "def analyse(cfg, datamodule):\n",
    "    # Setting up tensorboard logger, which defines also logdir (contains trained network)\n",
    "    tbl = pl_loggers.TensorBoardLogger(\n",
    "        save_dir=cfg.tensorboard.save_dir,\n",
    "        name=cfg.tensorboard.name,\n",
    "        version=cfg.tensorboard.version,\n",
    "        default_hp_metric=False,\n",
    "    )\n",
    "    logdir = (\n",
    "        tbl.experiment.get_logdir()\n",
    "    )  # Directory where all logging information and checkpoints etc are stored\n",
    "\n",
    "    # Load network and train (or re-load trained network)\n",
    "    network = hydra.utils.instantiate(cfg.estimation.network, cfg)\n",
    "    lr_monitor = LearningRateMonitor(logging_interval=\"step\")\n",
    "    early_stop_callback = EarlyStopping(\n",
    "        monitor=\"val_loss\",\n",
    "        min_delta=cfg.estimation.early_stopping.min_delta,\n",
    "        patience=cfg.estimation.early_stopping.patience,\n",
    "        verbose=False,\n",
    "        mode=\"min\",\n",
    "    )\n",
    "    checkpoint_callback = ModelCheckpoint(\n",
    "        monitor=\"val_loss\",\n",
    "        dirpath=logdir + \"/checkpoint/\",\n",
    "        filename=\"{epoch:02d}-{val_loss:.2f}\",\n",
    "        save_top_k=3,\n",
    "        mode=\"min\",\n",
    "    )\n",
    "    trainer = sl.SwyftTrainer(\n",
    "        accelerator=cfg.estimation.accelerator,\n",
    "        gpus=1,\n",
    "        max_epochs=cfg.estimation.max_epochs,\n",
    "        logger=tbl,\n",
    "        callbacks=[lr_monitor, early_stop_callback, checkpoint_callback],\n",
    "    )\n",
    "    best_checkpoint = logdir + \"/checkpoint/best.ckpt\"\n",
    "    if not os.path.isfile(best_checkpoint):\n",
    "        trainer.fit(network, datamodule)\n",
    "        shutil.copy(checkpoint_callback.best_model_path, best_checkpoint)\n",
    "        trainer.test(network, datamodule)\n",
    "    else:\n",
    "        trainer.fit(network, datamodule, ckpt_path=best_checkpoint)\n",
    "\n",
    "    return network, trainer, tbl\n",
    "\n",
    "# network, trainer, tbl, datamodule = load(cfg, simulator)\n",
    "network, trainer, tbl = analyse(cfg, datamodule)"
   ]
  },
  {
   "cell_type": "code",
   "execution_count": 5,
   "id": "8863df55",
   "metadata": {},
   "outputs": [
    {
     "name": "stdout",
     "output_type": "stream",
     "text": [
      "Prior,    M_frac    in subhalo log10 mass range\n",
      "3.12e-04, 5.00e-01:    [9.000 - 9.500]\n",
      "3.12e-04, 5.00e-01:    [9.500 - 10.000]\n"
     ]
    },
    {
     "name": "stderr",
     "output_type": "stream",
     "text": [
      "Calculating posteriors: 100%|██████████| 63/63 [00:25<00:00,  2.51it/s]\n",
      "Calculating reliability curve: 100%|██████████| 63/63 [00:00<00:00, 2759.44it/s]\n",
      "Calculating reliability curve: 100%|██████████| 63/63 [00:00<00:00, 2728.92it/s]\n",
      "Calculating reliability curve: 100%|██████████| 21/21 [00:00<00:00, 1313.79it/s]\n",
      "Calculating reliability curve: 100%|██████████| 21/21 [00:00<00:00, 1346.51it/s]\n",
      "Calculating reliability curve: 100%|██████████| 63/63 [00:00<00:00, 2815.75it/s]\n",
      "Calculating reliability curve: 100%|██████████| 21/21 [00:00<00:00, 1293.07it/s]\n",
      "Calculating reliability curve: 100%|██████████| 21/21 [00:00<00:00, 1306.77it/s]\n",
      "Calculating reliability curve: 100%|██████████| 63/63 [00:00<00:00, 2810.18it/s]\n",
      "100%|██████████| 1/1 [00:00<00:00, 493.56it/s]\n",
      "100%|██████████| 1/1 [00:00<00:00, 2432.89it/s]\n"
     ]
    },
    {
     "name": "stdout",
     "output_type": "stream",
     "text": [
      "logdir: ./lightning_logs_blobs/uniform_noise0.0_sub1-1_m9.0-10.0_pix40_msc2_sim10000/version_0\n"
     ]
    }
   ],
   "source": [
    "def interpret(cfg, simulator, network, trainer, datamodule, tbl):\n",
    "    hydra.utils.call(\n",
    "        cfg.inference.interpreter, cfg, simulator, network, trainer, datamodule, tbl\n",
    "    )\n",
    "interpret(cfg, simulator, network, trainer, datamodule, tbl)"
   ]
  },
  {
   "cell_type": "code",
   "execution_count": 6,
   "id": "6abb78b1",
   "metadata": {},
   "outputs": [],
   "source": [
    "# @hydra.main(config_path=\".\", config_name=\"config\")\n",
    "# def main(cfg):\n",
    "#     print_dict(cfg)\n",
    "#     datamodule, simulator = simulate(cfg)\n",
    "    \n",
    "#     if cfg.load:\n",
    "#         network, trainer, tbl, datamodule = load(cfg, simulator)\n",
    "#     else:\n",
    "#         network, trainer, tbl = analyse(cfg, datamodule)\n",
    "#     interpret(cfg, simulator, network, trainer, datamodule, tbl)\n",
    "\n",
    "\n",
    "# if __name__ == \"__main__\":\n",
    "#     main()"
   ]
  },
  {
   "cell_type": "code",
   "execution_count": 7,
   "id": "20fea4c2",
   "metadata": {},
   "outputs": [
    {
     "ename": "AssertionError",
     "evalue": "",
     "output_type": "error",
     "traceback": [
      "\u001b[0;31m---------------------------------------------------------------------------\u001b[0m",
      "\u001b[0;31mAssertionError\u001b[0m                            Traceback (most recent call last)",
      "Input \u001b[0;32mIn [7]\u001b[0m, in \u001b[0;36m<cell line: 2>\u001b[0;34m()\u001b[0m\n\u001b[1;32m      1\u001b[0m \u001b[38;5;66;03m# Make the scripts stop here\u001b[39;00m\n\u001b[0;32m----> 2\u001b[0m \u001b[38;5;28;01massert\u001b[39;00m \u001b[38;5;241m1\u001b[39m \u001b[38;5;241m==\u001b[39m \u001b[38;5;241m2\u001b[39m\n",
      "\u001b[0;31mAssertionError\u001b[0m: "
     ]
    }
   ],
   "source": [
    "# Make the scripts stop here\n",
    "assert 1 == 2"
   ]
  },
  {
   "cell_type": "markdown",
   "id": "e41710f3",
   "metadata": {},
   "source": [
    "# Interpret"
   ]
  },
  {
   "cell_type": "code",
   "execution_count": null,
   "id": "30b8975a",
   "metadata": {},
   "outputs": [],
   "source": [
    "import os\n",
    "import numpy as np\n",
    "import pylab as plt\n",
    "import torch\n",
    "import swyft.lightning as sl\n",
    "\n",
    "from udens.interpret import IsotonicRegressionCalibration\n",
    "from udens.logging_utils_subN import LogIRC, LogPost, LogObs, LogBounds, LogSingleSub\n",
    "from udens.inference import Infer, Prior"
   ]
  },
  {
   "cell_type": "code",
   "execution_count": null,
   "id": "2b9a8cf5",
   "metadata": {},
   "outputs": [],
   "source": [
    "logdir = tbl.experiment.get_logdir()\n",
    "\n",
    "# Calculate expected n_sub\n",
    "Ms = datamodule.predict_dataloader().dataset[:]['z_sub'][:,:,0]\n",
    "n_sub_expect = cfg.simulation.model.nsub_expect #torch.mean(torch.tensor(np.count_nonzero(Ms.numpy(), axis  = 1), dtype = torch.float32))\n",
    "\n",
    "# Loading the inference class and \n",
    "infer = Infer(simulator, network, datamodule, n_sub_expect)\n",
    "\n",
    "# Prior information necessary for loggers\n",
    "prior, prior_grid = infer.calc_prior()[0], infer.prior_grid()\n",
    "grid_coords = infer.get_grid_coords()\n",
    "grid_low, grid_high = infer.grid_low, infer.grid_high\n",
    "    "
   ]
  },
  {
   "cell_type": "code",
   "execution_count": null,
   "id": "fee9515e",
   "metadata": {},
   "outputs": [],
   "source": [
    "# Simulations inference\n",
    "posts_norm, posts_unnorm, targets = infer.get_posts(datamodule.predict_dataloader(), cfg.inference.n_infer)\n",
    "torch.save(posts_norm, os.path.join(logdir, 'posts_norm.pt'))\n",
    "torch.save(posts_unnorm, os.path.join(logdir, 'posts_unnorm.pt'))\n",
    "torch.save(targets, os.path.join(logdir,'targets.pt'))\n",
    "# posts_norm = torch.load(os.path.join(logdir, 'posts_norm.pt'))\n",
    "# posts_unnorm = torch.load(os.path.join(logdir, 'posts_unnorm.pt'))\n",
    "# targets       = torch.load(os.path.join(logdir, 'targets.pt'))"
   ]
  },
  {
   "cell_type": "code",
   "execution_count": null,
   "id": "6f882162",
   "metadata": {},
   "outputs": [],
   "source": [
    "# Calibration\n",
    "irc_norm = IsotonicRegressionCalibration(posts_norm, targets)    \n",
    "posts_norm_calib = irc_norm.calibrate(posts_norm)\n",
    "torch.save(posts_norm_calib, os.path.join(logdir, 'posts_norm_calib.pt'))\n",
    "\n",
    "irc_unnorm = IsotonicRegressionCalibration(posts_unnorm, targets)    \n",
    "posts_unnorm_calib = irc_unnorm.calibrate(posts_unnorm)\n",
    "torch.save(posts_unnorm_calib, os.path.join(logdir, 'posts_unnorm_calib.pt'))"
   ]
  },
  {
   "cell_type": "code",
   "execution_count": null,
   "id": "ad211800",
   "metadata": {},
   "outputs": [],
   "source": [
    "# Log simulation inference\n",
    "LogPost(tbl, posts_norm, targets, title = 'norm_uncalib').plot_all()\n",
    "LogPost(tbl, posts_norm_calib, targets, title = 'norm_calib').plot_all()\n",
    "LogIRC(tbl, irc_norm, title = 'norm_calibration').plot()\n",
    "\n",
    "LogPost(tbl, posts_unnorm, targets, title = 'unnorm_uncalib').plot_all()\n",
    "LogPost(tbl, posts_unnorm_calib, targets, title = 'unnorm_calib').plot_all()\n",
    "LogIRC(tbl, irc_unnorm, title = 'unnorm_calibration').plot()\n",
    "\n",
    "test_sim = simulator.sample(1)\n",
    "\n",
    "\n",
    "test_post_uncalib = infer.get_post(test_sim)[0] #[0] refers to normalized case\n",
    "test_sim = infer.squeeze_obs(test_sim)\n",
    "test_post = irc_norm.calibrate(test_post_uncalib.squeeze(0))\n",
    "\n",
    "log_obs = LogObs(tbl, test_sim, test_post, prior, grid_coords)\n",
    "log_obs.plot_obs()"
   ]
  },
  {
   "cell_type": "code",
   "execution_count": null,
   "id": "4faa7ee3",
   "metadata": {},
   "outputs": [],
   "source": [
    "sim_id = ''\n",
    "fig = lavalamp(test_post, test_sim, grid_coords, grid_low, grid_high)\n",
    "fig.write_html(os.path.join(logdir, f'lavalamp{sim_id}.html'))"
   ]
  },
  {
   "cell_type": "code",
   "execution_count": null,
   "id": "9fbed74f",
   "metadata": {},
   "outputs": [],
   "source": [
    "tbl.experiment.flush()\n",
    "print(\"logdir:\", tbl.experiment.get_logdir())"
   ]
  }
 ],
 "metadata": {
  "kernelspec": {
   "display_name": "Python 3 (ipykernel)",
   "language": "python",
   "name": "python3"
  },
  "language_info": {
   "codemirror_mode": {
    "name": "ipython",
    "version": 3
   },
   "file_extension": ".py",
   "mimetype": "text/x-python",
   "name": "python",
   "nbconvert_exporter": "python",
   "pygments_lexer": "ipython3",
   "version": "3.9.7"
  }
 },
 "nbformat": 4,
 "nbformat_minor": 5
}
